{
 "cells": [
  {
   "cell_type": "markdown",
   "id": "3fc2c265",
   "metadata": {},
   "source": [
    "# Linear regression"
   ]
  },
  {
   "cell_type": "markdown",
   "id": "8d5eb523",
   "metadata": {},
   "source": [
    "<a href=\"https://nbviewer.jupyter.org/github/hongjiaherng/ML-Collections/blob/main/just4funml/notes/note_linear_regression.ipynb\" \n",
    "   target=\"_parent\">\n",
    "   <img align=\"left\" \n",
    "      src=\"https://raw.githubusercontent.com/jupyter/design/master/logos/Badges/nbviewer_badge.svg\" \n",
    "      width=\"109\" height=\"20\">\n",
    "</a>"
   ]
  },
  {
   "cell_type": "markdown",
   "id": "327a0925",
   "metadata": {},
   "source": [
    "## 1. Model hypothesis\n",
    "- In this part, the hypothesis is based on 1 training example "
   ]
  },
  {
   "cell_type": "markdown",
   "id": "96b65c92",
   "metadata": {},
   "source": [
    "Before everything, define:\n",
    "<br><br>\n",
    "$\n",
    "\\mathbf{x} = \n",
    "\\begin{bmatrix}\n",
    "x_0 \\\\\n",
    "x_1 \\\\\n",
    "\\vdots \\\\\n",
    "x_n \\\\\n",
    "\\end{bmatrix}\n",
    ",\n",
    "\\theta =\n",
    "\\begin{bmatrix}\n",
    "\\theta_0 \\\\\n",
    "\\theta_1 \\\\\n",
    "\\vdots \\\\\n",
    "\\theta_n \\\\\n",
    "\\end{bmatrix}\n",
    ",\n",
    "y \\in \\mathbb{R}\n",
    "$"
   ]
  },
  {
   "cell_type": "markdown",
   "id": "577fdc0f",
   "metadata": {},
   "source": [
    "### Hypothesis\n",
    "$\n",
    "h_\\theta(\\mathbf{x}) = \\theta^\\top\\mathbf{x} \\ \\ \\ \\ \\ ,where \\  h_\\theta(\\mathbf{x}) \\in \\mathbb{R}\n",
    "$"
   ]
  },
  {
   "cell_type": "markdown",
   "id": "8130633f",
   "metadata": {},
   "source": [
    "## 2. Cost function"
   ]
  },
  {
   "cell_type": "markdown",
   "id": "d4bf39ae",
   "metadata": {},
   "source": [
    "$\n",
    "J(\\theta) = \\dfrac{1}{2m} \\sum_\\limits{i=1}^{m} \\left( h_\\theta \\left( \\mathbf{x}^{(i)} \\right) - y^{(i)} \\right)^{2}\n",
    "$"
   ]
  },
  {
   "cell_type": "markdown",
   "id": "a3c63c07",
   "metadata": {},
   "source": [
    "- This cost is Mean Squared Error"
   ]
  },
  {
   "cell_type": "markdown",
   "id": "70981ae9",
   "metadata": {},
   "source": [
    "### Minimizing $J(\\theta)$\n",
    "- The following gradient vector is what we need to compute"
   ]
  },
  {
   "cell_type": "markdown",
   "id": "ee521d03",
   "metadata": {},
   "source": [
    "$\n",
    "\\nabla_{\\theta} J(\\theta) = \n",
    "\\begin{bmatrix}\n",
    "\\dfrac{\\partial}{\\partial\\theta_0} J(\\theta) \\\\\n",
    "\\dfrac{\\partial}{\\partial\\theta_1} J(\\theta) \\\\\n",
    "\\vdots \\\\\n",
    "\\dfrac{\\partial}{\\partial\\theta_n} J(\\theta) \\\\\n",
    "\\end{bmatrix}\n",
    "$"
   ]
  },
  {
   "cell_type": "markdown",
   "id": "df55310b",
   "metadata": {},
   "source": [
    "### Compute derivative of $J(\\theta)$"
   ]
  },
  {
   "cell_type": "markdown",
   "id": "6dfe4e5e",
   "metadata": {},
   "source": [
    "$\n",
    "J(\\theta) = \\dfrac{1}{2m} \\sum_\\limits{i=1}^{m} \\left( h_\\theta \\left( \\mathbf{x}^{(i)} \\right) - y^{(i)} \\right)^{2}\n",
    "$"
   ]
  },
  {
   "cell_type": "markdown",
   "id": "9eea04cc",
   "metadata": {},
   "source": [
    "$\n",
    "\\begin{align*}\n",
    "\\dfrac{\\partial}{\\partial\\theta_j} J(\\theta) \n",
    "&=\n",
    "\\dfrac{\\partial}{\\partial\\theta_j} \\dfrac{1}{2m} \\sum_\\limits{i=1}^{m} \\left( h_\\theta \\left( \\mathbf{x}^{(i)} \\right) - y^{(i)} \\right)^{2} \n",
    "\\\\ &=\n",
    "\\dfrac{1}{2m} \\sum_\\limits{i=1}^{m} \\dfrac{\\partial}{\\partial\\theta_j} \\left( h_\\theta \\left( \\mathbf{x}^{(i)} \\right) - y^{(i)} \\right)^{2}\n",
    "\\\\ &=\n",
    "\\dfrac{1}{2m} \\sum_\\limits{i=1}^{m} (2) \\left( h_\\theta \\left( \\mathbf{x}^{(i)} \\right) - y^{(i)} \\right) \\dfrac{\\partial}{\\partial\\theta_j} \\left( h_\\theta \\left( \\mathbf{x}^{(i)} \\right) - y^{(i)} \\right) \n",
    "\\\\ &=\n",
    "\\dfrac{1}{m} \\sum_\\limits{i=1}^{m} \\left( h_\\theta \\left( \\mathbf{x}^{(i)} \\right) - y^{(i)} \\right) \\left( \\dfrac{\\partial}{\\partial\\theta_j} \\theta^\\top\\mathbf{x}{(i)} - 0 \\right)\n",
    "\\\\ &=\n",
    "\\dfrac{1}{m} \\sum_\\limits{i=1}^{m} \\left( h_\\theta \\left( \\mathbf{x}^{(i)} \\right) - y^{(i)} \\right) \\mathbf{x}^{(i)}_j\n",
    "\\end{align*}\n",
    "$"
   ]
  },
  {
   "cell_type": "markdown",
   "id": "f6a9e3e4",
   "metadata": {},
   "source": [
    "## 3. Linear regression variant"
   ]
  },
  {
   "cell_type": "markdown",
   "id": "312cb3fa",
   "metadata": {},
   "source": [
    "a) **Linear regression** (Unregularized) <br>\n",
    "b) **Ridge regression** ($l_2$ regularization) <br>\n",
    "c) **Lasso regression** ($l_1$ regularization) <br>\n",
    "d) **ElasticNet** (Combine $l_2$ and $l_1$ regularization) <br>\n",
    "e) **Polynomial regression** (Expand the number of features with polynomial features to fit linearly inseparateble data) <br>\n",
    "f) **Normal equation** (closed-form solution, directly get the $\\theta$ value) <br>"
   ]
  },
  {
   "cell_type": "markdown",
   "id": "469ec118",
   "metadata": {},
   "source": [
    "### a) Linear regression"
   ]
  },
  {
   "cell_type": "markdown",
   "id": "2be7bc52",
   "metadata": {},
   "source": [
    "$\n",
    "J(\\theta) = \\dfrac{1}{2m} \\sum_\\limits{i=1}^{m} \\left( h_\\theta \\left( \\mathbf{x}^{(i)} \\right) - y^{(i)} \\right)^{2}\n",
    "$"
   ]
  },
  {
   "cell_type": "markdown",
   "id": "b94f30fb",
   "metadata": {},
   "source": [
    "$\\dfrac{\\partial}{\\partial\\theta_j} J(\\theta)  = \\dfrac{1}{m} \\sum_\\limits{i=1}^{m} \\left( h_\\theta \\left( \\mathbf{x}^{(i)} \\right) - y^{(i)} \\right) \\mathbf{x}^{(i)}_j$"
   ]
  },
  {
   "cell_type": "markdown",
   "id": "02283cb9",
   "metadata": {},
   "source": [
    "### b) Ridge regression"
   ]
  },
  {
   "cell_type": "markdown",
   "id": "787ff603",
   "metadata": {},
   "source": [
    "$\n",
    "J(\\theta) = \\dfrac{1}{2m} \\sum_\\limits{i=1}^{m} \\left( h_\\theta \\left( \\mathbf{x}^{(i)} \\right) - y^{(i)} \\right)^{2} + \\dfrac{\\lambda}{2} \\sum_\\limits{j=1}^{n} \\theta_j^{2}\n",
    "$"
   ]
  },
  {
   "cell_type": "markdown",
   "id": "cf350215",
   "metadata": {},
   "source": [
    "$\\dfrac{\\partial}{\\partial\\theta_j} J(\\theta)  = \\dfrac{1}{m} \\sum_\\limits{i=1}^{m} \\left( h_\\theta \\left( \\mathbf{x}^{(i)} \\right) - y^{(i)} \\right) \\mathbf{x}^{(i)}_j + \\lambda \\theta_j  \\ \\ \\ \\ \\ \\ \\ \\ \\ where\\ \\ j \\in \\lbrace 1,2...n\\rbrace$"
   ]
  },
  {
   "cell_type": "markdown",
   "id": "6d28f935",
   "metadata": {},
   "source": [
    "### c) Lasso regression"
   ]
  },
  {
   "cell_type": "markdown",
   "id": "6a2bf483",
   "metadata": {},
   "source": [
    "$\n",
    "J(\\theta) = \\dfrac{1}{2m} \\sum_\\limits{i=1}^{m} \\left( h_\\theta \\left( \\mathbf{x}^{(i)} \\right) - y^{(i)} \\right)^{2} + \\lambda \\sum_\\limits{j=1}^{n} |\\theta_j|\n",
    "$"
   ]
  },
  {
   "cell_type": "markdown",
   "id": "6b31f90e",
   "metadata": {},
   "source": [
    "$\\dfrac{\\partial}{\\partial\\theta_j} J(\\theta)  = \\dfrac{1}{m} \\sum_\\limits{i=1}^{m} \\left( h_\\theta \\left( \\mathbf{x}^{(i)} \\right) - y^{(i)} \\right) \\mathbf{x}^{(i)}_j + \\lambda sign(\\theta_j)  \\ \\ \\ \\ \\ \\ \\ \\ \\ where\\ \\ j \\in \\lbrace 1,2...n\\rbrace$"
   ]
  },
  {
   "cell_type": "markdown",
   "id": "f1788edc",
   "metadata": {},
   "source": [
    "### d) ElasticNet\n",
    "- r => mix ratio"
   ]
  },
  {
   "cell_type": "markdown",
   "id": "1fff4135",
   "metadata": {},
   "source": [
    "$\n",
    "J(\\theta) = \\dfrac{1}{2m} \\sum_\\limits{i=1}^{m} \\left( h_\\theta \\left( \\mathbf{x}^{(i)} \\right) - y^{(i)} \\right)^{2} + r \\lambda \\sum_\\limits{j=1}^{n} |\\theta_j| + \\dfrac{1 - r}{2} \\lambda \\sum_\\limits{j=1}^{n} \\theta_j^{2}\n",
    "$"
   ]
  },
  {
   "cell_type": "markdown",
   "id": "5290a3ac",
   "metadata": {},
   "source": [
    "$\\dfrac{\\partial}{\\partial\\theta_j} J(\\theta)  = \\dfrac{1}{m} \\sum_\\limits{i=1}^{m} \\left( h_\\theta \\left( \\mathbf{x}^{(i)} \\right) - y^{(i)} \\right) \\mathbf{x}^{(i)}_j + r \\lambda sign(\\theta_j) + (1 - r) \\lambda \\theta_j  \\ \\ \\ \\ \\ \\ \\ \\ \\ where\\ \\ j \\in \\lbrace 1,2...n\\rbrace$"
   ]
  },
  {
   "cell_type": "markdown",
   "id": "1aaf7992",
   "metadata": {},
   "source": [
    "### e) Polynomial regression"
   ]
  },
  {
   "cell_type": "markdown",
   "id": "cdd06302",
   "metadata": {},
   "source": [
    "### f) Normal equaltion"
   ]
  },
  {
   "cell_type": "code",
   "execution_count": null,
   "id": "35d2bc39",
   "metadata": {},
   "outputs": [],
   "source": []
  }
 ],
 "metadata": {
  "kernelspec": {
   "display_name": "Python 3",
   "language": "python",
   "name": "python3"
  },
  "language_info": {
   "codemirror_mode": {
    "name": "ipython",
    "version": 3
   },
   "file_extension": ".py",
   "mimetype": "text/x-python",
   "name": "python",
   "nbconvert_exporter": "python",
   "pygments_lexer": "ipython3",
   "version": "3.9.3"
  }
 },
 "nbformat": 4,
 "nbformat_minor": 5
}
