{
 "cells": [
  {
   "cell_type": "code",
   "execution_count": 1,
   "id": "29aad6a7",
   "metadata": {},
   "outputs": [],
   "source": [
    "# Import necessary modules to access files in another folder in the project\n",
    "import sys\n",
    "import os\n",
    "import mynbconfig\n",
    "mynbconfig.add_syspath()    # Add project path to python system path to be able to access scripts from other folder\n",
    "\n",
    "import numpy as np\n",
    "np.random.seed(2042)\n",
    "\n",
    "%matplotlib inline\n",
    "import matplotlib as mpl\n",
    "import matplotlib.pyplot as plt\n",
    "mpl.rc('axes', labelsize=14)\n",
    "mpl.rc('xtick', labelsize=12)\n",
    "mpl.rc('ytick', labelsize=12)"
   ]
  },
  {
   "cell_type": "code",
   "execution_count": 2,
   "id": "bfed8199",
   "metadata": {},
   "outputs": [],
   "source": [
    "from just4funml.algorithms.supervised import LogisticRegression\n",
    "import just4funml.utils.preprocessing as preprocessing"
   ]
  },
  {
   "cell_type": "code",
   "execution_count": 3,
   "id": "f26c9bbd",
   "metadata": {},
   "outputs": [],
   "source": [
    "from sklearn import datasets\n",
    "iris = datasets.load_iris()"
   ]
  },
  {
   "cell_type": "code",
   "execution_count": 4,
   "id": "5de551bd",
   "metadata": {},
   "outputs": [],
   "source": [
    "X = iris['data'][:, (2, 3)]\n",
    "y = iris['target'] == 0"
   ]
  },
  {
   "cell_type": "code",
   "execution_count": 5,
   "id": "9e9376e2",
   "metadata": {},
   "outputs": [],
   "source": [
    "X_train, y_train, X_valid, y_valid, X_test, y_test = preprocessing.train_validation_test_split(X, y, validation_ratio=0.2, test_ratio=0.2)"
   ]
  },
  {
   "cell_type": "code",
   "execution_count": 31,
   "id": "2f67f12f",
   "metadata": {},
   "outputs": [
    {
     "data": {
      "text/plain": [
       "LogisticRegression()"
      ]
     },
     "execution_count": 31,
     "metadata": {},
     "output_type": "execute_result"
    }
   ],
   "source": [
    "from sklearn.linear_model import LogisticRegression\n",
    "\n",
    "logistic_reg = LogisticRegression()\n",
    "logistic_reg.fit(X_train, y_train)"
   ]
  },
  {
   "cell_type": "code",
   "execution_count": 32,
   "id": "53253aaa",
   "metadata": {},
   "outputs": [
    {
     "data": {
      "text/plain": [
       "array([[-2.25836296, -0.93073208]])"
      ]
     },
     "execution_count": 32,
     "metadata": {},
     "output_type": "execute_result"
    }
   ],
   "source": [
    "logistic_reg.coef_"
   ]
  },
  {
   "cell_type": "code",
   "execution_count": 33,
   "id": "c277eed9",
   "metadata": {},
   "outputs": [
    {
     "data": {
      "text/plain": [
       "array([6.71121169])"
      ]
     },
     "execution_count": 33,
     "metadata": {},
     "output_type": "execute_result"
    }
   ],
   "source": [
    "logistic_reg.intercept_"
   ]
  },
  {
   "cell_type": "code",
   "execution_count": 34,
   "id": "a6677132",
   "metadata": {},
   "outputs": [
    {
     "data": {
      "text/plain": [
       "array([ True, False, False, False, False, False, False,  True, False,\n",
       "       False, False,  True,  True,  True, False,  True, False, False,\n",
       "        True, False,  True, False,  True,  True,  True, False, False,\n",
       "        True, False, False])"
      ]
     },
     "execution_count": 34,
     "metadata": {},
     "output_type": "execute_result"
    }
   ],
   "source": [
    "logistic_reg.predict(X_valid)"
   ]
  },
  {
   "cell_type": "code",
   "execution_count": 36,
   "id": "273f06d2",
   "metadata": {
    "scrolled": true
   },
   "outputs": [
    {
     "data": {
      "text/plain": [
       "array([[3.34604805e-02, 9.66539520e-01],\n",
       "       [9.99658981e-01, 3.41018946e-04],\n",
       "       [9.99842167e-01, 1.57833262e-04],\n",
       "       [9.77202169e-01, 2.27978315e-02],\n",
       "       [9.94546987e-01, 5.45301258e-03],\n",
       "       [9.96830051e-01, 3.16994861e-03],\n",
       "       [9.90635060e-01, 9.36493964e-03],\n",
       "       [5.15789679e-02, 9.48421032e-01],\n",
       "       [9.99233539e-01, 7.66461397e-04],\n",
       "       [9.99854209e-01, 1.45790616e-04],\n",
       "       [8.93194100e-01, 1.06805900e-01],\n",
       "       [7.58790855e-02, 9.24120914e-01],\n",
       "       [5.15789679e-02, 9.48421032e-01],\n",
       "       [2.68782073e-02, 9.73121793e-01],\n",
       "       [9.95029205e-01, 4.97079487e-03],\n",
       "       [3.66048144e-02, 9.63395186e-01],\n",
       "       [9.32695185e-01, 6.73048153e-02],\n",
       "       [9.97600481e-01, 2.39951908e-03],\n",
       "       [5.15789679e-02, 9.48421032e-01],\n",
       "       [9.67686678e-01, 3.23133223e-02],\n",
       "       [6.14831230e-02, 9.38516877e-01],\n",
       "       [9.93174785e-01, 6.82521499e-03],\n",
       "       [4.54577914e-02, 9.54542209e-01],\n",
       "       [4.15858177e-02, 9.58414182e-01],\n",
       "       [5.15789679e-02, 9.48421032e-01],\n",
       "       [9.99511963e-01, 4.88036570e-04],\n",
       "       [9.99971553e-01, 2.84472476e-05],\n",
       "       [3.05776704e-02, 9.69422330e-01],\n",
       "       [9.79979820e-01, 2.00201798e-02],\n",
       "       [9.99983501e-01, 1.64992935e-05]])"
      ]
     },
     "execution_count": 36,
     "metadata": {},
     "output_type": "execute_result"
    }
   ],
   "source": [
    "logistic_reg.predict_proba(X_valid)"
   ]
  },
  {
   "cell_type": "code",
   "execution_count": 39,
   "id": "54f77bdb",
   "metadata": {
    "scrolled": true
   },
   "outputs": [
    {
     "data": {
      "text/plain": [
       "array([0., 0., 1., 0., 0., 1., 1., 1., 1., 0., 0., 0., 1., 0., 1., 0., 0.,\n",
       "       0., 0., 0., 1., 0., 1., 0., 1., 0., 1., 0., 1., 0., 0., 0., 0., 0.,\n",
       "       0., 0., 1., 0., 1., 1., 1., 0., 1., 1., 0., 0., 0., 0., 1., 0., 0.,\n",
       "       0., 0., 0., 0., 0., 0., 0., 0., 0., 0., 0., 0., 0., 1., 0., 0., 1.,\n",
       "       0., 0., 0., 1., 1., 0., 0., 0., 0., 0., 0., 0., 1., 0., 1., 0., 0.,\n",
       "       0., 1., 0., 0., 1.])"
      ]
     },
     "execution_count": 39,
     "metadata": {},
     "output_type": "execute_result"
    }
   ],
   "source": [
    "y_train.astype(np.float64)"
   ]
  },
  {
   "cell_type": "code",
   "execution_count": 6,
   "id": "dc6b02de",
   "metadata": {},
   "outputs": [],
   "source": [
    "my_logistic_reg = LogisticRegression(max_iter=1000)\n",
    "my_logistic_reg.fit(X_train, y_train)"
   ]
  },
  {
   "cell_type": "code",
   "execution_count": 7,
   "id": "3c5e8b3b",
   "metadata": {},
   "outputs": [
    {
     "data": {
      "text/plain": [
       "array([[ 4.58455379],\n",
       "       [-1.43957649],\n",
       "       [-1.61915358]])"
      ]
     },
     "execution_count": 7,
     "metadata": {},
     "output_type": "execute_result"
    }
   ],
   "source": [
    "my_logistic_reg.theta"
   ]
  },
  {
   "cell_type": "code",
   "execution_count": 8,
   "id": "3bbdf356",
   "metadata": {},
   "outputs": [
    {
     "data": {
      "text/plain": [
       "array([False,  True, False, False,  True,  True,  True, False, False,\n",
       "       False, False, False, False,  True, False, False,  True, False,\n",
       "        True,  True, False,  True, False, False,  True, False, False,\n",
       "        True,  True,  True, False,  True, False, False,  True, False,\n",
       "       False,  True, False, False, False, False, False, False,  True,\n",
       "       False, False, False, False, False,  True, False, False, False,\n",
       "       False,  True,  True, False, False,  True, False, False, False,\n",
       "        True, False, False,  True, False, False, False, False,  True,\n",
       "       False, False, False,  True, False, False, False, False, False,\n",
       "       False, False,  True,  True, False, False, False, False, False])"
      ]
     },
     "execution_count": 8,
     "metadata": {},
     "output_type": "execute_result"
    }
   ],
   "source": [
    "my_logistic_reg.predict(X_train)"
   ]
  },
  {
   "cell_type": "code",
   "execution_count": 11,
   "id": "29325835",
   "metadata": {},
   "outputs": [
    {
     "data": {
      "text/plain": [
       "1.0"
      ]
     },
     "execution_count": 11,
     "metadata": {},
     "output_type": "execute_result"
    }
   ],
   "source": [
    "np.mean(my_logistic_reg.predict(X_train) == y_train)"
   ]
  },
  {
   "cell_type": "code",
   "execution_count": 12,
   "id": "c1c65273",
   "metadata": {},
   "outputs": [
    {
     "data": {
      "text/plain": [
       "1.0"
      ]
     },
     "execution_count": 12,
     "metadata": {},
     "output_type": "execute_result"
    }
   ],
   "source": [
    "np.mean(my_logistic_reg.predict(X_valid) == y_valid)"
   ]
  },
  {
   "cell_type": "code",
   "execution_count": 13,
   "id": "7426abbf",
   "metadata": {},
   "outputs": [
    {
     "data": {
      "text/plain": [
       "1.0"
      ]
     },
     "execution_count": 13,
     "metadata": {},
     "output_type": "execute_result"
    }
   ],
   "source": [
    "np.mean(my_logistic_reg.predict(X_test) == y_test)"
   ]
  },
  {
   "cell_type": "code",
   "execution_count": 14,
   "id": "fec5ab66",
   "metadata": {},
   "outputs": [
    {
     "data": {
      "text/plain": [
       "array([ True, False, False,  True,  True, False,  True, False, False,\n",
       "       False,  True, False,  True, False,  True,  True, False, False,\n",
       "       False,  True, False,  True, False, False, False,  True, False,\n",
       "       False,  True,  True])"
      ]
     },
     "execution_count": 14,
     "metadata": {},
     "output_type": "execute_result"
    }
   ],
   "source": [
    "my_logistic_reg.predict(X_test)"
   ]
  },
  {
   "cell_type": "code",
   "execution_count": 15,
   "id": "9bcffecc",
   "metadata": {},
   "outputs": [
    {
     "data": {
      "text/plain": [
       "array([ True, False, False,  True,  True, False,  True, False, False,\n",
       "       False,  True, False,  True, False,  True,  True, False, False,\n",
       "       False,  True, False,  True, False, False, False,  True, False,\n",
       "       False,  True,  True])"
      ]
     },
     "execution_count": 15,
     "metadata": {},
     "output_type": "execute_result"
    }
   ],
   "source": [
    "y_test"
   ]
  },
  {
   "cell_type": "code",
   "execution_count": null,
   "id": "cf7c8db2",
   "metadata": {},
   "outputs": [],
   "source": []
  }
 ],
 "metadata": {
  "kernelspec": {
   "display_name": "Python 3",
   "language": "python",
   "name": "python3"
  },
  "language_info": {
   "codemirror_mode": {
    "name": "ipython",
    "version": 3
   },
   "file_extension": ".py",
   "mimetype": "text/x-python",
   "name": "python",
   "nbconvert_exporter": "python",
   "pygments_lexer": "ipython3",
   "version": "3.9.3"
  }
 },
 "nbformat": 4,
 "nbformat_minor": 5
}
